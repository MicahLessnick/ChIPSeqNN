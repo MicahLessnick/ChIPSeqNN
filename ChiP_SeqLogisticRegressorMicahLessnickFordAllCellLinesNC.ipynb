{
  "nbformat": 4,
  "nbformat_minor": 0,
  "metadata": {
    "colab": {
      "name": "ChiP-SeqLogisticRegressorMicahLessnickFordAllCellLinesNC.ipynb",
      "provenance": []
    },
    "kernelspec": {
      "name": "python3",
      "display_name": "Python 3"
    },
    "language_info": {
      "name": "python"
    }
  },
  "cells": [
    {
      "cell_type": "markdown",
      "metadata": {
        "id": "VQXk21jW05AK"
      },
      "source": [
        "# Logistic Regressor for ChiP-Seq Dataset\n",
        "\n",
        "Written by Micah Lessnick\n",
        "\n",
        "Logistic regressor to ID True and False peaks in EWS/FLI ChiP-Seq datasets. Trained across 4 cell lines provided by Nationwide Children's Hospital cancer research center."
      ]
    },
    {
      "cell_type": "markdown",
      "metadata": {
        "id": "YgItIFTx1vyR"
      },
      "source": [
        "Mount program to google drive"
      ]
    },
    {
      "cell_type": "code",
      "metadata": {
        "colab": {
          "base_uri": "https://localhost:8080/"
        },
        "id": "HFPolu6v1ym_",
        "outputId": "46e532be-f6de-485f-e2bb-c4283b6f0791"
      },
      "source": [
        "from google.colab import drive\n",
        "drive.mount('/content/gdrive')"
      ],
      "execution_count": null,
      "outputs": [
        {
          "output_type": "stream",
          "text": [
            "Mounted at /content/gdrive\n"
          ],
          "name": "stdout"
        }
      ]
    },
    {
      "cell_type": "markdown",
      "metadata": {
        "id": "3yKVu9F-1jpV"
      },
      "source": [
        "Import packages"
      ]
    },
    {
      "cell_type": "code",
      "metadata": {
        "id": "LZCU5IkDrCK8"
      },
      "source": [
        "import matplotlib.pyplot as plt\n",
        "import numpy as np\n",
        "import pandas as pd\n",
        "import sklearn.datasets\n",
        "import sklearn.metrics\n",
        "from sklearn.model_selection import train_test_split\n",
        "from sklearn.preprocessing import StandardScaler\n",
        "import tensorflow as tf\n",
        "from tensorflow import keras\n",
        "from sklearn.linear_model import LogisticRegression"
      ],
      "execution_count": null,
      "outputs": []
    },
    {
      "cell_type": "markdown",
      "metadata": {
        "id": "58UwmEyThRVd"
      },
      "source": [
        "Load CSV file"
      ]
    },
    {
      "cell_type": "code",
      "metadata": {
        "colab": {
          "base_uri": "https://localhost:8080/",
          "height": 419
        },
        "id": "-OQC86IshUGx",
        "outputId": "6e9b4e2c-becd-41b6-c973-4a227d226ce7"
      },
      "source": [
        "whole_df = pd.read_csv('/content/gdrive/MyDrive/Ford_Research_Models/peakDataAllNC.csv')\n",
        "whole_df\n",
        "\n",
        "#dfs containing remaining cell lines (for additional testing)\n",
        "whole_ews_df = pd.read_csv('/content/gdrive/MyDrive/Ford_Research_Models/peakDataEws.csv')\n",
        "\n",
        "whole_sknmc_df = pd.read_csv('/content/gdrive/MyDrive/Ford_Research_Models/peakDataSknmc.csv')\n",
        "\n",
        "whole_tc71_df = pd.read_csv('/content/gdrive/MyDrive/Ford_Research_Models/peakDataTc71.csv')\n",
        "\n",
        "whole_ews_df"
      ],
      "execution_count": null,
      "outputs": [
        {
          "output_type": "execute_result",
          "data": {
            "text/html": [
              "<div>\n",
              "<style scoped>\n",
              "    .dataframe tbody tr th:only-of-type {\n",
              "        vertical-align: middle;\n",
              "    }\n",
              "\n",
              "    .dataframe tbody tr th {\n",
              "        vertical-align: top;\n",
              "    }\n",
              "\n",
              "    .dataframe thead th {\n",
              "        text-align: right;\n",
              "    }\n",
              "</style>\n",
              "<table border=\"1\" class=\"dataframe\">\n",
              "  <thead>\n",
              "    <tr style=\"text-align: right;\">\n",
              "      <th></th>\n",
              "      <th>width</th>\n",
              "      <th>log2FC_score</th>\n",
              "      <th>log2FC</th>\n",
              "      <th>X.log10pval</th>\n",
              "      <th>X.log10FDR</th>\n",
              "      <th>class</th>\n",
              "    </tr>\n",
              "  </thead>\n",
              "  <tbody>\n",
              "    <tr>\n",
              "      <th>0</th>\n",
              "      <td>501</td>\n",
              "      <td>183.719443</td>\n",
              "      <td>6.123231</td>\n",
              "      <td>15.224318</td>\n",
              "      <td>13.232433</td>\n",
              "      <td>1</td>\n",
              "    </tr>\n",
              "    <tr>\n",
              "      <th>1</th>\n",
              "      <td>501</td>\n",
              "      <td>5.376616</td>\n",
              "      <td>3.091402</td>\n",
              "      <td>4.187096</td>\n",
              "      <td>3.478807</td>\n",
              "      <td>1</td>\n",
              "    </tr>\n",
              "    <tr>\n",
              "      <th>2</th>\n",
              "      <td>501</td>\n",
              "      <td>-28.353692</td>\n",
              "      <td>2.517987</td>\n",
              "      <td>3.042289</td>\n",
              "      <td>2.561334</td>\n",
              "      <td>1</td>\n",
              "    </tr>\n",
              "    <tr>\n",
              "      <th>3</th>\n",
              "      <td>501</td>\n",
              "      <td>35.721267</td>\n",
              "      <td>3.607262</td>\n",
              "      <td>5.728388</td>\n",
              "      <td>4.761781</td>\n",
              "      <td>1</td>\n",
              "    </tr>\n",
              "    <tr>\n",
              "      <th>4</th>\n",
              "      <td>501</td>\n",
              "      <td>11.215371</td>\n",
              "      <td>3.190661</td>\n",
              "      <td>4.533287</td>\n",
              "      <td>3.761623</td>\n",
              "      <td>1</td>\n",
              "    </tr>\n",
              "    <tr>\n",
              "      <th>...</th>\n",
              "      <td>...</td>\n",
              "      <td>...</td>\n",
              "      <td>...</td>\n",
              "      <td>...</td>\n",
              "      <td>...</td>\n",
              "      <td>...</td>\n",
              "    </tr>\n",
              "    <tr>\n",
              "      <th>23112</th>\n",
              "      <td>501</td>\n",
              "      <td>-27.348917</td>\n",
              "      <td>2.535068</td>\n",
              "      <td>2.406887</td>\n",
              "      <td>2.063259</td>\n",
              "      <td>0</td>\n",
              "    </tr>\n",
              "    <tr>\n",
              "      <th>23113</th>\n",
              "      <td>501</td>\n",
              "      <td>-33.543010</td>\n",
              "      <td>2.429769</td>\n",
              "      <td>1.944525</td>\n",
              "      <td>1.693271</td>\n",
              "      <td>0</td>\n",
              "    </tr>\n",
              "    <tr>\n",
              "      <th>23114</th>\n",
              "      <td>501</td>\n",
              "      <td>95.413111</td>\n",
              "      <td>4.622023</td>\n",
              "      <td>3.148077</td>\n",
              "      <td>2.645609</td>\n",
              "      <td>0</td>\n",
              "    </tr>\n",
              "    <tr>\n",
              "      <th>23115</th>\n",
              "      <td>501</td>\n",
              "      <td>10.852415</td>\n",
              "      <td>3.184491</td>\n",
              "      <td>3.140340</td>\n",
              "      <td>2.639374</td>\n",
              "      <td>0</td>\n",
              "    </tr>\n",
              "    <tr>\n",
              "      <th>23116</th>\n",
              "      <td>501</td>\n",
              "      <td>73.273018</td>\n",
              "      <td>4.245641</td>\n",
              "      <td>5.783743</td>\n",
              "      <td>4.809188</td>\n",
              "      <td>0</td>\n",
              "    </tr>\n",
              "  </tbody>\n",
              "</table>\n",
              "<p>23117 rows × 6 columns</p>\n",
              "</div>"
            ],
            "text/plain": [
              "       width  log2FC_score    log2FC  X.log10pval  X.log10FDR  class\n",
              "0        501    183.719443  6.123231    15.224318   13.232433      1\n",
              "1        501      5.376616  3.091402     4.187096    3.478807      1\n",
              "2        501    -28.353692  2.517987     3.042289    2.561334      1\n",
              "3        501     35.721267  3.607262     5.728388    4.761781      1\n",
              "4        501     11.215371  3.190661     4.533287    3.761623      1\n",
              "...      ...           ...       ...          ...         ...    ...\n",
              "23112    501    -27.348917  2.535068     2.406887    2.063259      0\n",
              "23113    501    -33.543010  2.429769     1.944525    1.693271      0\n",
              "23114    501     95.413111  4.622023     3.148077    2.645609      0\n",
              "23115    501     10.852415  3.184491     3.140340    2.639374      0\n",
              "23116    501     73.273018  4.245641     5.783743    4.809188      0\n",
              "\n",
              "[23117 rows x 6 columns]"
            ]
          },
          "metadata": {
            "tags": []
          },
          "execution_count": 3
        }
      ]
    },
    {
      "cell_type": "markdown",
      "metadata": {
        "id": "YB7D6Vx5kKOA"
      },
      "source": [
        "Separate labels from data"
      ]
    },
    {
      "cell_type": "code",
      "metadata": {
        "id": "6NW8E2xvkSqy"
      },
      "source": [
        "full_target_df = whole_df.loc[:, 'class']\n",
        "full_target_df #df holding only the labels in order as they appear from the original data\n",
        "\n",
        "ews_target_df = whole_ews_df.loc[:, 'class']\n",
        "\n",
        "sknmc_target_df = whole_sknmc_df.loc[:, 'class']\n",
        "\n",
        "tc71_target_df = whole_tc71_df.loc[:, 'class']\n",
        "\n",
        "full_data_df = whole_df.drop('class', axis=1)\n",
        "#full_data_df.drop('log2FC_score', axis=1, inplace=True)#remove duplicate distributed features (allows\n",
        "#full_data_df.drop('X.log10pval', axis=1, inplace=True)  #normalization to occur correctly)\n",
        "full_data_df #df holding everything but the labels\n",
        "\n",
        "ews_data_df = whole_ews_df.drop('class', axis=1) #r script already removed the seqnames column from these dfs\n",
        "#ews_data_df.drop('log2FC_score', axis=1, inplace=True)\n",
        "#ews_data_df.drop('X.log10pval', axis=1, inplace=True)\n",
        "\n",
        "sknmc_data_df = whole_sknmc_df.drop('class', axis=1)\n",
        "#sknmc_data_df.drop('log2FC_score', axis=1, inplace=True)\n",
        "#sknmc_data_df.drop('X.log10pval', axis=1, inplace=True)\n",
        "\n",
        "tc71_data_df = whole_tc71_df.drop('class', axis=1)\n",
        "#tc71_data_df.drop('log2FC_score', axis=1, inplace=True)\n",
        "#tc71_data_df.drop('X.log10pval', axis=1, inplace=True)"
      ],
      "execution_count": null,
      "outputs": []
    },
    {
      "cell_type": "markdown",
      "metadata": {
        "id": "bV0khN1euBqD"
      },
      "source": [
        "Prepare test, training, and validation sets"
      ]
    },
    {
      "cell_type": "code",
      "metadata": {
        "id": "3RDWpJKBuFaA"
      },
      "source": [
        "#split training and test data\n",
        "train_data, test_data, train_target, test_target = train_test_split(\n",
        "    full_data_df, full_target_df, train_size=0.8, random_state=17\n",
        ")\n",
        "#split full training into training and validation sets (may not be needed for logistic regressor)\n",
        "#train_data, valid_data, train_target, valid_target = train_test_split(\n",
        "#    train_full_data, train_full_target, train_size=0.8, random_state=17\n",
        "#)"
      ],
      "execution_count": null,
      "outputs": []
    },
    {
      "cell_type": "markdown",
      "metadata": {
        "id": "nNdwOwI-ondb"
      },
      "source": [
        "Reset random number seeds (ensures repeatable results)"
      ]
    },
    {
      "cell_type": "code",
      "metadata": {
        "id": "4TVcYNCMondi"
      },
      "source": [
        "np.random.seed(17)\n",
        "tf.random.set_seed(17)"
      ],
      "execution_count": null,
      "outputs": []
    },
    {
      "cell_type": "markdown",
      "metadata": {
        "id": "VGROeHDL7wDN"
      },
      "source": [
        "Capture mean and standard deviation of training set for use in normalization function"
      ]
    },
    {
      "cell_type": "code",
      "metadata": {
        "id": "QfHrweaw74FW"
      },
      "source": [
        "#compute mean and std for training dataset, will be used in zscore function\n",
        "data_mean = np.mean(train_data)\n",
        "data_std = np.std(train_data)"
      ],
      "execution_count": null,
      "outputs": []
    },
    {
      "cell_type": "markdown",
      "metadata": {
        "id": "Ys6E35PuRPsS"
      },
      "source": [
        "Normalize dataset based on zscore of train_data"
      ]
    },
    {
      "cell_type": "code",
      "metadata": {
        "id": "sq2gnPqDRQMk",
        "colab": {
          "base_uri": "https://localhost:8080/"
        },
        "outputId": "5dec9feb-27ad-4562-fd3c-141db739393a"
      },
      "source": [
        "#function to compute zscore of any dataset provided, based on train_data zscore\n",
        "def zscoreNormRelative(data):\n",
        "  normData = (data-data_mean)/data_std\n",
        "  return (normData)\n",
        "\n",
        "train_data = zscoreNormRelative(train_data)\n",
        "test_data = zscoreNormRelative(test_data)\n",
        "\n",
        "#function to compute zscore of provided df (guarantees returned df will have mean = 0, std = 1)\n",
        "def zscoreNormActual(dataFrame):\n",
        "  norm_mean = np.mean(dataFrame)\n",
        "  norm_std = np.std(dataFrame)\n",
        "  return ((dataFrame-norm_mean)/norm_std)\n",
        "\n",
        "ews_data_df = zscoreNormActual(ews_data_df)\n",
        "sknmc_data_df = zscoreNormActual(sknmc_data_df)\n",
        "tc71_data_df = zscoreNormActual(tc71_data_df)\n",
        "\n",
        "np.mean(sknmc_data_df)"
      ],
      "execution_count": null,
      "outputs": [
        {
          "output_type": "execute_result",
          "data": {
            "text/plain": [
              "width          -9.978676e-15\n",
              "log2FC_score    2.181318e-15\n",
              "log2FC          5.385636e-16\n",
              "X.log10pval     4.063586e-15\n",
              "X.log10FDR     -1.878514e-15\n",
              "dtype: float64"
            ]
          },
          "metadata": {
            "tags": []
          },
          "execution_count": 8
        }
      ]
    },
    {
      "cell_type": "code",
      "metadata": {
        "colab": {
          "base_uri": "https://localhost:8080/",
          "height": 419
        },
        "id": "krLGFaG0_T0u",
        "outputId": "5f4d4f79-5a8f-420c-f999-daf14a58f9bd"
      },
      "source": [
        "train_data"
      ],
      "execution_count": null,
      "outputs": [
        {
          "output_type": "execute_result",
          "data": {
            "text/html": [
              "<div>\n",
              "<style scoped>\n",
              "    .dataframe tbody tr th:only-of-type {\n",
              "        vertical-align: middle;\n",
              "    }\n",
              "\n",
              "    .dataframe tbody tr th {\n",
              "        vertical-align: top;\n",
              "    }\n",
              "\n",
              "    .dataframe thead th {\n",
              "        text-align: right;\n",
              "    }\n",
              "</style>\n",
              "<table border=\"1\" class=\"dataframe\">\n",
              "  <thead>\n",
              "    <tr style=\"text-align: right;\">\n",
              "      <th></th>\n",
              "      <th>width</th>\n",
              "      <th>log2FC_score</th>\n",
              "      <th>log2FC</th>\n",
              "      <th>X.log10pval</th>\n",
              "      <th>X.log10FDR</th>\n",
              "    </tr>\n",
              "  </thead>\n",
              "  <tbody>\n",
              "    <tr>\n",
              "      <th>282</th>\n",
              "      <td>-0.170796</td>\n",
              "      <td>0.313998</td>\n",
              "      <td>0.313998</td>\n",
              "      <td>0.008237</td>\n",
              "      <td>-0.000515</td>\n",
              "    </tr>\n",
              "    <tr>\n",
              "      <th>27407</th>\n",
              "      <td>-0.170796</td>\n",
              "      <td>-0.696208</td>\n",
              "      <td>-0.696208</td>\n",
              "      <td>-0.812107</td>\n",
              "      <td>-0.798331</td>\n",
              "    </tr>\n",
              "    <tr>\n",
              "      <th>63243</th>\n",
              "      <td>-0.163728</td>\n",
              "      <td>0.845751</td>\n",
              "      <td>0.845751</td>\n",
              "      <td>-0.350768</td>\n",
              "      <td>-0.354063</td>\n",
              "    </tr>\n",
              "    <tr>\n",
              "      <th>24362</th>\n",
              "      <td>-0.170796</td>\n",
              "      <td>-0.926490</td>\n",
              "      <td>-0.926490</td>\n",
              "      <td>-0.890775</td>\n",
              "      <td>-0.870257</td>\n",
              "    </tr>\n",
              "    <tr>\n",
              "      <th>33450</th>\n",
              "      <td>-0.180264</td>\n",
              "      <td>-0.254399</td>\n",
              "      <td>-0.254399</td>\n",
              "      <td>0.133869</td>\n",
              "      <td>0.111766</td>\n",
              "    </tr>\n",
              "    <tr>\n",
              "      <th>...</th>\n",
              "      <td>...</td>\n",
              "      <td>...</td>\n",
              "      <td>...</td>\n",
              "      <td>...</td>\n",
              "      <td>...</td>\n",
              "    </tr>\n",
              "    <tr>\n",
              "      <th>25631</th>\n",
              "      <td>-0.170796</td>\n",
              "      <td>0.294627</td>\n",
              "      <td>0.294627</td>\n",
              "      <td>0.575189</td>\n",
              "      <td>0.566976</td>\n",
              "    </tr>\n",
              "    <tr>\n",
              "      <th>42297</th>\n",
              "      <td>-0.180264</td>\n",
              "      <td>-1.369751</td>\n",
              "      <td>-1.369751</td>\n",
              "      <td>-1.086991</td>\n",
              "      <td>-1.046680</td>\n",
              "    </tr>\n",
              "    <tr>\n",
              "      <th>34959</th>\n",
              "      <td>-0.180264</td>\n",
              "      <td>-1.196624</td>\n",
              "      <td>-1.196624</td>\n",
              "      <td>-0.710917</td>\n",
              "      <td>-0.708382</td>\n",
              "    </tr>\n",
              "    <tr>\n",
              "      <th>64753</th>\n",
              "      <td>-0.163728</td>\n",
              "      <td>0.334153</td>\n",
              "      <td>0.334153</td>\n",
              "      <td>-0.201278</td>\n",
              "      <td>-0.205352</td>\n",
              "    </tr>\n",
              "    <tr>\n",
              "      <th>76399</th>\n",
              "      <td>-0.117496</td>\n",
              "      <td>-1.098627</td>\n",
              "      <td>-1.098627</td>\n",
              "      <td>-1.041945</td>\n",
              "      <td>-0.999012</td>\n",
              "    </tr>\n",
              "  </tbody>\n",
              "</table>\n",
              "<p>70187 rows × 5 columns</p>\n",
              "</div>"
            ],
            "text/plain": [
              "          width  log2FC_score    log2FC  X.log10pval  X.log10FDR\n",
              "282   -0.170796      0.313998  0.313998     0.008237   -0.000515\n",
              "27407 -0.170796     -0.696208 -0.696208    -0.812107   -0.798331\n",
              "63243 -0.163728      0.845751  0.845751    -0.350768   -0.354063\n",
              "24362 -0.170796     -0.926490 -0.926490    -0.890775   -0.870257\n",
              "33450 -0.180264     -0.254399 -0.254399     0.133869    0.111766\n",
              "...         ...           ...       ...          ...         ...\n",
              "25631 -0.170796      0.294627  0.294627     0.575189    0.566976\n",
              "42297 -0.180264     -1.369751 -1.369751    -1.086991   -1.046680\n",
              "34959 -0.180264     -1.196624 -1.196624    -0.710917   -0.708382\n",
              "64753 -0.163728      0.334153  0.334153    -0.201278   -0.205352\n",
              "76399 -0.117496     -1.098627 -1.098627    -1.041945   -0.999012\n",
              "\n",
              "[70187 rows x 5 columns]"
            ]
          },
          "metadata": {
            "tags": []
          },
          "execution_count": 9
        }
      ]
    },
    {
      "cell_type": "markdown",
      "metadata": {
        "id": "wYGhKcreuFq1"
      },
      "source": [
        "Build/run regressor"
      ]
    },
    {
      "cell_type": "code",
      "metadata": {
        "id": "PTcXZfuTuKRI",
        "colab": {
          "base_uri": "https://localhost:8080/"
        },
        "outputId": "0d05af09-54f5-4243-815d-68da9dfb5b6f"
      },
      "source": [
        "log_reg = LogisticRegression(solver=\"lbfgs\", random_state=17)\n",
        "log_reg.fit(train_data, train_target)"
      ],
      "execution_count": null,
      "outputs": [
        {
          "output_type": "execute_result",
          "data": {
            "text/plain": [
              "LogisticRegression(C=1.0, class_weight=None, dual=False, fit_intercept=True,\n",
              "                   intercept_scaling=1, l1_ratio=None, max_iter=100,\n",
              "                   multi_class='auto', n_jobs=None, penalty='l2',\n",
              "                   random_state=17, solver='lbfgs', tol=0.0001, verbose=0,\n",
              "                   warm_start=False)"
            ]
          },
          "metadata": {
            "tags": []
          },
          "execution_count": 10
        }
      ]
    },
    {
      "cell_type": "markdown",
      "metadata": {
        "id": "XxrjNIhFuJl8"
      },
      "source": [
        "Analyze results"
      ]
    },
    {
      "cell_type": "code",
      "metadata": {
        "colab": {
          "base_uri": "https://localhost:8080/"
        },
        "id": "MRk5w99suQbw",
        "outputId": "7927abde-e82b-440e-a583-f1396c5d177f"
      },
      "source": [
        "pred = log_reg.predict(test_data)\n",
        "conf = sklearn.metrics.confusion_matrix(test_target, pred)\n",
        "print(\"ChiP-Seq Regressor:\")\n",
        "print(conf)\n",
        "\n",
        "print(\"\\nClassification report:\")\n",
        "print(sklearn.metrics.classification_report(test_target, pred, target_names=(\"false positives\", \"true peaks\")))\n",
        "\n",
        "print(\"\\nF1 score of the model:\")\n",
        "print(sklearn.metrics.f1_score(test_target, pred))\n",
        "#f1 score appears to be taking f1 score of true peaks only\n",
        "print(\"================================================================================\")\n",
        "#EWS eval\n",
        "print(\"\\nEvaluate model performance on EWS cell line\")\n",
        "\n",
        "ews_pred = log_reg.predict(ews_data_df)\n",
        "\n",
        "print(\"\\nF1 score of the model on EWS:\")\n",
        "currentF1Ews = sklearn.metrics.f1_score(ews_target_df, ews_pred)\n",
        "print(str(currentF1Ews) + \"\\n\")\n",
        "\n",
        "print(\"Confusion matrix of current model on EWS:\")\n",
        "print(sklearn.metrics.confusion_matrix(ews_target_df, ews_pred))\n",
        "\n",
        "#SKNMC eval\n",
        "print(\"\\nEvaluate model performance on SKNMC cell line\")\n",
        "\n",
        "sknmc_pred = log_reg.predict(sknmc_data_df)\n",
        "\n",
        "print(\"\\nF1 score of the model on SKNMC:\")\n",
        "currentF1Sknmc = sklearn.metrics.f1_score(sknmc_target_df, sknmc_pred)\n",
        "print(str(currentF1Sknmc) + \"\\n\")\n",
        "\n",
        "print(\"Confusion matrix of current model on SKNMC:\")\n",
        "print(sklearn.metrics.confusion_matrix(sknmc_target_df, sknmc_pred))\n",
        "\n",
        "#TC71 eval\n",
        "print(\"\\nEvaluate model performance on TC71 cell line\")\n",
        "\n",
        "tc71_pred = log_reg.predict(tc71_data_df)\n",
        "\n",
        "print(\"\\nF1 score of the model on TC71:\")\n",
        "currentF1Tc71 = sklearn.metrics.f1_score(tc71_target_df, tc71_pred)\n",
        "print(str(currentF1Tc71) + \"\\n\")\n",
        "\n",
        "print(\"Confusion matrix of current model on TC71:\")\n",
        "print(sklearn.metrics.confusion_matrix(tc71_target_df, tc71_pred))"
      ],
      "execution_count": null,
      "outputs": [
        {
          "output_type": "stream",
          "text": [
            "ChiP-Seq Regressor:\n",
            "[[10335   863]\n",
            " [ 2520  3829]]\n",
            "\n",
            "Classification report:\n",
            "                 precision    recall  f1-score   support\n",
            "\n",
            "false positives       0.80      0.92      0.86     11198\n",
            "     true peaks       0.82      0.60      0.69      6349\n",
            "\n",
            "       accuracy                           0.81     17547\n",
            "      macro avg       0.81      0.76      0.78     17547\n",
            "   weighted avg       0.81      0.81      0.80     17547\n",
            "\n",
            "\n",
            "F1 score of the model:\n",
            "0.6935965945113668\n",
            "================================================================================\n",
            "\n",
            "Evaluate model performance on EWS cell line\n",
            "\n",
            "F1 score of the model on EWS:\n",
            "0.6239419588875452\n",
            "\n",
            "Confusion matrix of current model on EWS:\n",
            "[[13444  1707]\n",
            " [ 3580  4386]]\n",
            "\n",
            "Evaluate model performance on SKNMC cell line\n",
            "\n",
            "F1 score of the model on SKNMC:\n",
            "0.7343097821962511\n",
            "\n",
            "Confusion matrix of current model on SKNMC:\n",
            "[[9883  371]\n",
            " [3130 4838]]\n",
            "\n",
            "Evaluate model performance on TC71 cell line\n",
            "\n",
            "F1 score of the model on TC71:\n",
            "0.5979398299542185\n",
            "\n",
            "Confusion matrix of current model on TC71:\n",
            "[[6479  614]\n",
            " [4304 3657]]\n"
          ],
          "name": "stdout"
        }
      ]
    }
  ]
}